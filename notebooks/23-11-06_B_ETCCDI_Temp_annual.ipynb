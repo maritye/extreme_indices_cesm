{
 "cells": [
  {
   "cell_type": "markdown",
   "metadata": {},
   "source": [
    "This script generates the ETCCDI temperature indices from a single historical run of CESM2-WACCM daily temperature maxima (TX) and temperature minima (TN).\n",
    "\n",
    "Outputs one file per index:\n",
    "\n",
    "* TXX  \n",
    "* TXN  \n",
    "* TNN   \n",
    "* TNX  \n",
    "* TN90  \n",
    "* TN10  \n",
    "* TX90  \n",
    "* TX10  \n",
    "* SU   \n",
    "* TR  \n",
    "* ID \n",
    "* FD  \n",
    "\n",
    "GSL Growing season length is not computed here. Script yet to be developed.  \n",
    "Warm spell and cold spell durations are not computed. Script yet to be developed.  \n",
    "\n",
    "__NOTE__ percentile days are with respect to the annual distribution. i.e. number of days exceeding the 90th percentile of the annual distribution of temperatures. Climpact calculates a percentage of days higher than the calendar day threshold (i.e. with respect to seasonal distribution). This is to come."
   ]
  },
  {
   "cell_type": "code",
   "execution_count": 1,
   "metadata": {
    "tags": []
   },
   "outputs": [],
   "source": [
    "import warnings\n",
    "warnings.filterwarnings('ignore')"
   ]
  },
  {
   "cell_type": "code",
   "execution_count": 2,
   "metadata": {},
   "outputs": [],
   "source": [
    "import numpy as np # data arrays\n",
    "import xarray as xr # data array manipulation\n",
    "import pandas as pd\n",
    "import datetime as dt\n",
    "import os\n",
    "import glob"
   ]
  },
  {
   "cell_type": "markdown",
   "metadata": {},
   "source": [
    "Define the temperature functions"
   ]
  },
  {
   "cell_type": "code",
   "execution_count": 3,
   "metadata": {},
   "outputs": [],
   "source": [
    "from importlib import reload\n",
    "import config\n",
    "import tempex_func\n",
    "import utils #pyclimdex by B Groenks\n"
   ]
  },
  {
   "cell_type": "markdown",
   "metadata": {},
   "source": [
    "Read in each of the datasets in turn, calculate indices, then write the output to netcdf."
   ]
  },
  {
   "cell_type": "code",
   "execution_count": 4,
   "metadata": {},
   "outputs": [],
   "source": [
    "iDir = \"/glade/derecho/scratch/maritye/\"\n",
    "otnDir = \"/glade/work/maritye/Data/ARISE-SAI/ETCCDI/Historical/TREFHTMN/\"\n",
    "otxDir = '/glade/work/maritye/Data/ARISE-SAI/ETCCDI/Historical/TREFHTMX/'"
   ]
  },
  {
   "cell_type": "markdown",
   "metadata": {},
   "source": [
    "Create standard information to include with each data set"
   ]
  },
  {
   "cell_type": "code",
   "execution_count": 5,
   "metadata": {},
   "outputs": [],
   "source": [
    "years = np.arange(1980,2014)\n",
    "dates= '1980-2014'\n",
    "#member=range(10)\n",
    "lat = np.linspace(-90,90,num=192)\n",
    "lon = np.linspace(0,358.75,num=288)\n",
    "#dims = ('member','year', 'lat', 'lon')\n",
    "#coords = dict(member = member, year=years, lat=lat, lon=lon)\n",
    "dims = ('year', 'lat', 'lon')\n",
    "coords = dict(year=years, lat=lat, lon=lon)\n",
    "attribs = dict(description='Temperature Extreme Indices based on ETCCDI definitions. MCB scenarios with 5% global seeding', \n",
    "                history='Created by Mari Tye November 2023.' ),\n"
   ]
  },
  {
   "cell_type": "markdown",
   "metadata": {},
   "source": [
    "read in thresholds from SSP245 take the mean of the ensemble as the threshold for these runs."
   ]
  },
  {
   "cell_type": "code",
   "execution_count": 7,
   "metadata": {},
   "outputs": [
    {
     "name": "stdout",
     "output_type": "stream",
     "text": [
      "dn10\n",
      "dn90\n",
      "dx90\n",
      "dx10\n"
     ]
    }
   ],
   "source": [
    "with xr.open_dataset('/glade/work/maritye/Data/ARISE-SAI/ETCCDI/Historical/TREFHTMN/b.e21.BWHISTcmip6.f09_g17.CMIP6-historical-WACCM.1980_2014.001.cam.h1.QN10.1981-2010.nc') as dn10:\n",
    "    print('dn10')\n",
    "\n",
    "with xr.open_dataset('/glade/work/maritye/Data/ARISE-SAI/ETCCDI/Historical/TREFHTMN/b.e21.BWHISTcmip6.f09_g17.CMIP6-historical-WACCM.1980_2014.001.cam.h1.QN90.1981-2010.nc') as dn90:\n",
    "    print('dn90')\n",
    "    \n",
    "with xr.open_dataset('/glade/work/maritye/Data/ARISE-SAI/ETCCDI/Historical/TREFHTMX/b.e21.BWHISTcmip6.f09_g17.CMIP6-historical-WACCM.1980_2014.001.cam.h1.QX90.1981-2010.nc') as dsx90:\n",
    "    print('dx90')\n",
    "\n",
    "with xr.open_dataset('/glade/work/maritye/Data/ARISE-SAI/ETCCDI/Historical/TREFHTMX/b.e21.BWHISTcmip6.f09_g17.CMIP6-historical-WACCM.1980_2014.001.cam.h1.QX10.1981-2010.nc') as dsx10:\n",
    "    print('dx10')"
   ]
  },
  {
   "cell_type": "markdown",
   "metadata": {},
   "source": [
    "## Daily minimum temperatures"
   ]
  },
  {
   "cell_type": "markdown",
   "metadata": {},
   "source": [
    "Create some blank arrays to fill with each index for each ensemble member. Write these out at the end with netcdf"
   ]
  },
  {
   "cell_type": "code",
   "execution_count": 8,
   "metadata": {
    "tags": []
   },
   "outputs": [],
   "source": [
    "TNX = xr.DataArray(None, coords=coords, dims=dims, attrs=attribs, name='TNX')\n",
    "TNN = xr.DataArray(None, coords=coords,  dims=dims, attrs=attribs, name='TNN')\n",
    "TN90 = xr.DataArray(None, coords=coords, dims=dims, attrs=attribs, name='TN90')\n",
    "TN10 = xr.DataArray(None, coords=coords, dims=dims, attrs=attribs, name='TN10')\n",
    "TR = xr.DataArray(None, coords=coords, dims=dims, attrs=attribs, name='TR')\n",
    "FD = xr.DataArray(None, coords=coords, dims=dims, attrs=attribs, name='FD')"
   ]
  },
  {
   "cell_type": "markdown",
   "metadata": {},
   "source": [
    "list the files - glob includes the filepath"
   ]
  },
  {
   "cell_type": "code",
   "execution_count": 9,
   "metadata": {},
   "outputs": [],
   "source": [
    "files = glob.glob(iDir + '*.TREFHTMN.*')"
   ]
  },
  {
   "cell_type": "code",
   "execution_count": 10,
   "metadata": {
    "tags": []
   },
   "outputs": [
    {
     "name": "stdout",
     "output_type": "stream",
     "text": [
      "0\n",
      "tnx\n",
      "tnn\n",
      "tr\n",
      "fd\n",
      "TN90\n",
      "TN10\n"
     ]
    }
   ],
   "source": [
    "for eff in range(1):\n",
    "    print(eff)\n",
    "    fp = files[eff]\n",
    "    ds = xr.open_dataset(fp)\n",
    "    ds = ds.sel(time=slice('1980-01-01', '2010-12-31'))\n",
    "\n",
    "        ### Fixed index\n",
    "    TNX[eff,:,:,:] = tempex_func.warmest_night(ds)    # Warmest night\n",
    "    print('tnx')\n",
    "    TNN[eff,:,:,:] = tempex_func.coolest_night(ds)    # Coolest night\n",
    "    print('tnn')\n",
    "\n",
    "        ## Fixed threshold count of days\n",
    "    TR[eff,:,:,:] = tempex_func.tropical_nights(ds)   # Tropical Nights Tn>20C\n",
    "    print('tr')\n",
    "    FD[eff,:,:,:] = tempex_func.frost_days(ds) # Nights with TN<Oc\n",
    "    print('fd')\n",
    "\n",
    "    # Locally defined threshold\n",
    "    TN90[eff,:,:,:] = tempex_func.annualnum_above_q(ds, dn90, varname='TREFHTMN')\n",
    "    print('TN90')\n",
    "    TN10[eff,:,:,:] = tempex_func.annualnum_below_q(ds, dn10, threshold=0.1, varname='TREFHTMN')\n",
    "    print('TN10')\n",
    "        "
   ]
  },
  {
   "cell_type": "code",
   "execution_count": 12,
   "metadata": {
    "tags": []
   },
   "outputs": [],
   "source": [
    "fileintro = 'b.e21.BSSP245smbb.f09_g17.MCB-050PCT.001-010.cam.h1.'\n",
    "\n",
    "tnnnm = os.path.join(otnDir , (fileintro + 'TNN.' + dates+ \".nc\"))\n",
    "tnxnm = os.path.join(otnDir , (fileintro + 'TNX.' + dates+ \".nc\"))\n",
    "trnm = os.path.join(otnDir , (fileintro + 'TR.' + dates+ \".nc\"))\n",
    "fdnm = os.path.join(otnDir , (fileintro + 'FD.' + dates+ \".nc\"))\n",
    "tn90nm = os.path.join(otnDir , (fileintro + 'TN90.' + dates + \".nc\"))\n",
    "tn10nm = os.path.join(otnDir , (fileintro + 'TN10.' + dates+ \".nc\"))\n",
    "\n",
    "    \n",
    "TNX = TNX.assign_attrs(units='Celsius',\n",
    "                       longname = 'Warmest Night per year')\n",
    "TNN = TNN.assign_attrs(units='Celsius',\n",
    "                       longname = 'Coldest Night per year')\n",
    "TR = TR.assign_attrs(units='Days per year',\n",
    "                       longname = 'Tropical Nights; daily minimum above 20C')\n",
    "FD = FD.assign_attrs(units='Days per year',\n",
    "                       longname = 'Frost Days; daily minimum below 0C')\n",
    "TN90 = TN90.assign_attrs(units='Days per year',\n",
    "                       longname = 'Warm Nights above 90th Percentile')\n",
    "TN10 = TN10.assign_attrs(units='Days per year',\n",
    "                       longname = 'Cool Nights below 10th Percentile')\n"
   ]
  },
  {
   "cell_type": "markdown",
   "metadata": {
    "tags": []
   },
   "source": [
    "and write out to netcdf"
   ]
  },
  {
   "cell_type": "code",
   "execution_count": 13,
   "metadata": {
    "tags": []
   },
   "outputs": [],
   "source": [
    "TNN.to_netcdf(tnnnm)\n",
    "TNX.to_netcdf(tnxnm)\n",
    "TR.to_netcdf(trnm)\n",
    "FD.to_netcdf(fdnm)\n",
    "TN90.to_netcdf(tn90nm)\n",
    "TN10.to_netcdf(tn10nm)\n"
   ]
  },
  {
   "cell_type": "markdown",
   "metadata": {
    "tags": []
   },
   "source": [
    "## Daily maximum temperature"
   ]
  },
  {
   "cell_type": "code",
   "execution_count": null,
   "metadata": {
    "tags": []
   },
   "outputs": [],
   "source": [
    "TXX = xr.DataArray(None, coords=coords, dims=dims, attrs=attribs, name='TXX')\n",
    "TXN = xr.DataArray(None, coords=coords, dims=dims, attrs=attribs, name='TXN')\n",
    "TX10 = xr.DataArray(None, coords=coords, dims=dims, attrs=attribs, name='TX10')\n",
    "TX90 = xr.DataArray(None, coords=coords, dims=dims, attrs=attribs, name='TX90')\n",
    "SU = xr.DataArray(None, coords=coords, dims=dims, attrs=attribs, name='SU')\n",
    "ID = xr.DataArray(None, coords=coords, dims=dims, attrs=attribs, name='ID')"
   ]
  },
  {
   "cell_type": "raw",
   "metadata": {
    "tags": []
   },
   "source": [
    "files = glob.glob(iDir + '*.TREFHTMX.*')\n",
    "for eff in range(10): \n",
    "    print(files[eff])\n",
    "    #### Open file\n",
    "    fp = files[eff]\n",
    "    ds = xr.open_dataset(fp)\n",
    "    ds = ds.sel(time=slice('1980-01-01', '2014-12-31'))\n",
    "\n",
    "        ### Fixed thresholds\n",
    "    TXX[eff,:,:,:] = tempex_func.warmest_day(ds)\n",
    "    print('txx')\n",
    "    TXN[eff,:,:,:] = tempex_func.coolest_day(ds)\n",
    "    print('txn')\n",
    "\n",
    "        ## Fixed threshold count of days\n",
    "    SU[eff,:,:,:] = tempex_func.summer_days(ds) \n",
    "    print('su')\n",
    "    ID[eff,:,:,:] = tempex_func.ice_days(ds) \n",
    "    print('id')\n",
    "    \n",
    "    #local threshold\n",
    "    TX90[eff,:,:,:] = tempex_func.annualnum_above_q(ds, dx90, varname='TREFHTMX')\n",
    "    print('TX90')\n",
    "    TX10[eff,:,:,:] = tempex_func.annualnum_below_q(ds, dx10, threshold=0.1, varname='TREFHTMX')\n",
    "    print('TX10')\n"
   ]
  },
  {
   "cell_type": "markdown",
   "metadata": {},
   "source": [
    "No loop for the historical data as only one model run"
   ]
  },
  {
   "cell_type": "code",
   "execution_count": 6,
   "metadata": {
    "tags": []
   },
   "outputs": [],
   "source": [
    "files = glob.glob(iDir + '*.TREFHTMX.*')\n",
    "eff = 0\n",
    "#### Open file\n",
    "fp = files[eff]\n",
    "ds = xr.open_dataset(fp)\n",
    "ds = ds.sel(time=slice('1980-01-01', '2014-12-31'))"
   ]
  },
  {
   "cell_type": "code",
   "execution_count": null,
   "metadata": {
    "tags": []
   },
   "outputs": [],
   "source": [
    "    ### Fixed thresholds\n",
    "TXX = tempex_func.warmest_day(ds)\n",
    "print('txx')\n",
    "TXN = tempex_func.coolest_day(ds)\n",
    "print('txn')\n",
    "\n",
    "    ## Fixed threshold count of days\n",
    "SU = tempex_func.summer_days(ds) \n",
    "print('su')\n",
    "ID = tempex_func.ice_days(ds) \n",
    "print('id')"
   ]
  },
  {
   "cell_type": "code",
   "execution_count": 7,
   "metadata": {},
   "outputs": [
    {
     "name": "stdout",
     "output_type": "stream",
     "text": [
      "1981\n",
      "1982\n",
      "1983\n",
      "1984\n",
      "1985\n",
      "1986\n",
      "1987\n",
      "1988\n",
      "1989\n",
      "1990\n",
      "1991\n",
      "1992\n",
      "1993\n",
      "1994\n",
      "1995\n",
      "1996\n",
      "1997\n",
      "1998\n",
      "1999\n",
      "2000\n",
      "2001\n",
      "2002\n",
      "2003\n",
      "2004\n",
      "2005\n",
      "2006\n",
      "2007\n",
      "2008\n",
      "2009\n",
      "2010\n"
     ]
    }
   ],
   "source": [
    "quan10 = xr.DataArray(None, coords=dict(year=range(30), lat = lat, lon = lon), dims=dims)\n",
    "quan90 = xr.DataArray(None, coords=dict(year=range(30), lat = lat, lon = lon), dims=dims)\n",
    "dsclim = ds.sel(time=slice('1981-01-01','2010-12-31'))\n",
    "\n",
    "climyears= np.arange(1981,2011,1)\n",
    "# first 30 iterations drop one year at a time\n",
    "for i in range(30):\n",
    "    \n",
    "    tdrop = dsclim.where(dsclim['time.year']!=climyears[i])\n",
    "    print(climyears[i])\n",
    "    quan90[i:,:,:] = tdrop.quantile(q=0.9, dim=('time'), skipna=True).squeeze().to_array()\n",
    "    quan10[i:,:,:] = tdrop.quantile(q=0.1, dim=('time'), skipna=True).squeeze().to_array()"
   ]
  },
  {
   "cell_type": "code",
   "execution_count": 23,
   "metadata": {},
   "outputs": [],
   "source": [
    "QX90 = quan90.mean('year')\n",
    "QX10 = quan10.mean('year')"
   ]
  },
  {
   "cell_type": "code",
   "execution_count": 24,
   "metadata": {},
   "outputs": [],
   "source": [
    "QX90 = QX90.to_dataset(name='QX90')\n",
    "QX10 = QX10.to_dataset(name='QX10')"
   ]
  },
  {
   "cell_type": "code",
   "execution_count": 27,
   "metadata": {},
   "outputs": [],
   "source": [
    "fileintro='b.e21.BWHISTcmip6.f09_g17.CMIP6-historical-WACCM.1980_2014.001.cam.h1.'\n",
    "\n",
    "qx90nm = os.path.join(otxDir, (fileintro + 'QX90.1981-2010.nc'))\n",
    "qx10nm = os.path.join(otxDir, (fileintro + 'QX10.1981-2010.nc'))\n",
    "\n",
    "QX90 = QX90.assign_attrs(units='Degrees Celsius',\n",
    "                       longname = '90th Percentile Annual Temperature - Warm Days')\n",
    "QX10 = QX10.assign_attrs(units='Degrees Celsius',\n",
    "                       longname = '10th Percentile Annual Temperature - Cool Days')\n",
    "\n",
    "QX90.to_netcdf(qx90nm)\n",
    "QX10.to_netcdf(qx10nm)"
   ]
  },
  {
   "cell_type": "code",
   "execution_count": 59,
   "metadata": {
    "tags": []
   },
   "outputs": [
    {
     "name": "stdout",
     "output_type": "stream",
     "text": [
      "TX90\n",
      "TX10\n"
     ]
    }
   ],
   "source": [
    "#local threshold\n",
    "TX90 = tempex_func.annualnum_above_q(ds, QX90, varname='TREFHTMX')\n",
    "print('TX90')\n",
    "TX10 = tempex_func.annualnum_below_q(ds, QX10, threshold=0.1, varname='TREFHTMX')\n",
    "print('TX10')"
   ]
  },
  {
   "cell_type": "code",
   "execution_count": 61,
   "metadata": {
    "tags": []
   },
   "outputs": [],
   "source": [
    "TX90 = TX90.rename({'QX90':'TX90'})\n",
    "TX10 = TX10.rename({'QX10':'TX10'})"
   ]
  },
  {
   "cell_type": "code",
   "execution_count": 62,
   "metadata": {
    "tags": []
   },
   "outputs": [],
   "source": [
    "txxnm = os.path.join(otxDir , (fileintro + 'TXX.' + dates + '.nc'))\n",
    "txnnm = os.path.join(otxDir , (fileintro + 'TXN.' + dates + '.nc'))\n",
    "sunm = os.path.join(otxDir , (fileintro + 'SU.' + dates + '.nc'))\n",
    "idnm = os.path.join(otxDir , (fileintro + 'ID.' + dates + '.nc'))\n",
    "tx90nm = os.path.join(otxDir , (fileintro + 'TX90.' + dates + '.nc'))\n",
    "tx10nm = os.path.join(otxDir , (fileintro + 'TX10.' + dates + '.nc'))"
   ]
  },
  {
   "cell_type": "code",
   "execution_count": null,
   "metadata": {
    "tags": []
   },
   "outputs": [],
   "source": [
    "TXX = TXX.assign_attrs(units='Celsius',\n",
    "                       longname = 'Warmest Day per year')\n",
    "TXN = TXN.assign_attrs(units='Celsius',\n",
    "                       longname = 'Coldest Day per year')\n",
    "SU = SU.assign_attrs(units='Days per year',\n",
    "                       longname = 'Summer Days; daily maximum above 25C')\n",
    "ID = ID.assign_attrs(units='Days per year',\n",
    "                       longname = 'Ice Days; daily maximum below 0C')\n",
    "TX90 = TX90.assign_attrs(units='Days per year',\n",
    "                       longname = 'Warm Days above 90th Percentile')\n",
    "TX10 = TX10.assign_attrs(units='Days per year',\n",
    "                       longname = 'Cool Days below 10th Percentile')\n",
    "\n",
    "\n",
    "    # and write out to netcdf\n",
    "TXN.to_netcdf(txnnm)\n",
    "TXX.to_netcdf(txxnm)\n",
    "SU.to_netcdf(sunm)\n",
    "ID.to_netcdf(idnm)\n",
    "TX90.to_netcdf(tx90nm)\n",
    "TX10.to_netcdf(tx10nm)"
   ]
  },
  {
   "cell_type": "code",
   "execution_count": null,
   "metadata": {},
   "outputs": [],
   "source": []
  },
  {
   "cell_type": "raw",
   "metadata": {},
   "source": [
    "from importlib import reload\n",
    "reload(tempex_func)"
   ]
  },
  {
   "cell_type": "code",
   "execution_count": null,
   "metadata": {},
   "outputs": [],
   "source": []
  }
 ],
 "metadata": {
  "kernelspec": {
   "display_name": "Python [conda env:miniconda-npl2023a_mrt]",
   "language": "python",
   "name": "conda-env-miniconda-npl2023a_mrt-py"
  },
  "language_info": {
   "codemirror_mode": {
    "name": "ipython",
    "version": 3
   },
   "file_extension": ".py",
   "mimetype": "text/x-python",
   "name": "python",
   "nbconvert_exporter": "python",
   "pygments_lexer": "ipython3",
   "version": "3.9.15"
  }
 },
 "nbformat": 4,
 "nbformat_minor": 4
}
